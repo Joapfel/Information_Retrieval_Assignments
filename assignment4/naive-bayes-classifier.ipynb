{
 "cells": [
  {
   "cell_type": "code",
   "execution_count": 76,
   "metadata": {},
   "outputs": [],
   "source": [
    "import pandas as pd\n",
    "import string\n",
    "from math import log10\n",
    "from collections import Counter\n",
    "from nltk.corpus import stopwords\n",
    "from nltk.tokenize import TweetTokenizer"
   ]
  },
  {
   "cell_type": "code",
   "execution_count": 34,
   "metadata": {},
   "outputs": [],
   "source": [
    "COLUMN_LABELS = ['Game Name', 'Class', 'Title', 'Review Text']\n",
    "train = pd.read_csv('games-train.csv', sep='\\t', names=COLUMN_LABELS)\n",
    "test = pd.read_csv('games-test.csv', sep='\\t', names=COLUMN_LABELS)"
   ]
  },
  {
   "cell_type": "code",
   "execution_count": 43,
   "metadata": {},
   "outputs": [],
   "source": [
    "tokenize = TweetTokenizer(reduce_len=True).tokenize"
   ]
  },
  {
   "cell_type": "code",
   "execution_count": 44,
   "metadata": {},
   "outputs": [],
   "source": [
    "def preprocess(doc):\n",
    "    doc = str(doc)\n",
    "    doc = doc.lower()\n",
    "    doc = doc.translate(str.maketrans('', '', string.punctuation)).strip()\n",
    "    doc = tokenize(doc)\n",
    "    doc = [token for token in doc if token not in stopwords.words('german')]\n",
    "    return doc"
   ]
  },
  {
   "cell_type": "code",
   "execution_count": 31,
   "metadata": {},
   "outputs": [],
   "source": [
    "def estimate_parameters(docs, collection_size): # docs = docs belonging to one class\n",
    "    p_y = len(docs) / collection_size\n",
    "    count = Counter()\n",
    "    for doc in docs:\n",
    "        count.update(preprocess(doc))\n",
    "        \n",
    "    return (p_y, count)"
   ]
  },
  {
   "cell_type": "code",
   "execution_count": 131,
   "metadata": {},
   "outputs": [],
   "source": [
    "def predict(test_doc, parameters):\n",
    "    test_doc = preprocess(test_doc)\n",
    "    probs = []\n",
    "    for class_, params in parameters.items():\n",
    "        tokens_prob = 0\n",
    "        p_y = params[0]\n",
    "        counter = params[1]\n",
    "        for token in test_doc:\n",
    "            token_rel_freq = counter[token] / sum(counter.values())\n",
    "            if token_rel_freq == 0:\n",
    "                continue\n",
    "            tokens_prob += log10(token_rel_freq)\n",
    "            \n",
    "        class_prob = log10(p_y) + tokens_prob\n",
    "        probs.append((class_, abs(class_prob)))\n",
    "            \n",
    "    return min(probs, key=lambda x: x[1])"
   ]
  },
  {
   "cell_type": "code",
   "execution_count": 45,
   "metadata": {},
   "outputs": [],
   "source": [
    "good = estimate_parameters(train[train['Class'] == 'gut']['Review Text'], len(train))\n",
    "bad = estimate_parameters(train[train['Class'] == 'schlecht']['Review Text'], len(train))"
   ]
  },
  {
   "cell_type": "code",
   "execution_count": 61,
   "metadata": {},
   "outputs": [],
   "source": [
    "params = {'good': good, 'bad': bad}"
   ]
  },
  {
   "cell_type": "code",
   "execution_count": 59,
   "metadata": {},
   "outputs": [
    {
     "name": "stdout",
     "output_type": "stream",
     "text": [
      "0.8230904656534169 0.1769095343465831\n"
     ]
    }
   ],
   "source": [
    "print(good[0], bad[0])"
   ]
  },
  {
   "cell_type": "code",
   "execution_count": 101,
   "metadata": {},
   "outputs": [
    {
     "data": {
      "text/plain": [
       "[('spiel', 33871),\n",
       " ('cool', 16236),\n",
       " ('macht', 13632),\n",
       " ('super', 11447),\n",
       " ('geil', 9955),\n",
       " ('gut', 9503),\n",
       " ('einfach', 8996),\n",
       " ('spaß', 8329),\n",
       " ('echt', 5912),\n",
       " ('immer', 4793)]"
      ]
     },
     "execution_count": 101,
     "metadata": {},
     "output_type": "execute_result"
    }
   ],
   "source": [
    "good[1].most_common(10)"
   ]
  },
  {
   "cell_type": "code",
   "execution_count": 143,
   "metadata": {
    "scrolled": true
   },
   "outputs": [
    {
     "data": {
      "text/plain": [
       "[('spiel', 9424),\n",
       " ('mehr', 6483),\n",
       " ('seit', 3275),\n",
       " ('bitte', 3263),\n",
       " ('immer', 3176),\n",
       " ('update', 3092),\n",
       " ('mal', 2639),\n",
       " ('geht', 2309),\n",
       " ('beheben', 2143),\n",
       " ('schon', 1973)]"
      ]
     },
     "execution_count": 143,
     "metadata": {},
     "output_type": "execute_result"
    }
   ],
   "source": [
    "bad[1].most_common(10)"
   ]
  },
  {
   "cell_type": "code",
   "execution_count": 134,
   "metadata": {},
   "outputs": [
    {
     "data": {
      "text/plain": [
       "('good', 3.763923847279274)"
      ]
     },
     "execution_count": 134,
     "metadata": {},
     "output_type": "execute_result"
    }
   ],
   "source": [
    "predict('tolles Spiel', params)"
   ]
  },
  {
   "cell_type": "code",
   "execution_count": 132,
   "metadata": {
    "scrolled": false
   },
   "outputs": [
    {
     "data": {
      "text/plain": [
       "('bad', 16.50217592654949)"
      ]
     },
     "execution_count": 132,
     "metadata": {},
     "output_type": "execute_result"
    }
   ],
   "source": [
    "predict('das Spiel stürtzt immer ab. bitte schnell beheben', params)"
   ]
  },
  {
   "cell_type": "code",
   "execution_count": 138,
   "metadata": {},
   "outputs": [
    {
     "data": {
      "text/html": [
       "<div>\n",
       "<style scoped>\n",
       "    .dataframe tbody tr th:only-of-type {\n",
       "        vertical-align: middle;\n",
       "    }\n",
       "\n",
       "    .dataframe tbody tr th {\n",
       "        vertical-align: top;\n",
       "    }\n",
       "\n",
       "    .dataframe thead th {\n",
       "        text-align: right;\n",
       "    }\n",
       "</style>\n",
       "<table border=\"1\" class=\"dataframe\">\n",
       "  <thead>\n",
       "    <tr style=\"text-align: right;\">\n",
       "      <th></th>\n",
       "      <th>Game Name</th>\n",
       "      <th>Class</th>\n",
       "      <th>Title</th>\n",
       "      <th>Review Text</th>\n",
       "    </tr>\n",
       "  </thead>\n",
       "  <tbody>\n",
       "    <tr>\n",
       "      <th>0</th>\n",
       "      <td>Farmville 2</td>\n",
       "      <td>schlecht</td>\n",
       "      <td>NaN</td>\n",
       "      <td>Echt schlecht , immer wen ich versuche zu star...</td>\n",
       "    </tr>\n",
       "    <tr>\n",
       "      <th>1</th>\n",
       "      <td>Die Simpsons</td>\n",
       "      <td>gut</td>\n",
       "      <td>Buchi0202136</td>\n",
       "      <td>Suche noch freunde zum hinzufuegen</td>\n",
       "    </tr>\n",
       "    <tr>\n",
       "      <th>2</th>\n",
       "      <td>Die Simpsons</td>\n",
       "      <td>gut</td>\n",
       "      <td>Suchtgefähr :) !!</td>\n",
       "      <td>Ich find das Spiel gut,man muss nicht permanen...</td>\n",
       "    </tr>\n",
       "    <tr>\n",
       "      <th>3</th>\n",
       "      <td>Die Simpsons</td>\n",
       "      <td>gut</td>\n",
       "      <td>Dauerhafter Spaß...</td>\n",
       "      <td>... durch immer neue Events. Schon 1 1/2 Jahre...</td>\n",
       "    </tr>\n",
       "    <tr>\n",
       "      <th>4</th>\n",
       "      <td>Subway Surfers</td>\n",
       "      <td>gut</td>\n",
       "      <td>Great</td>\n",
       "      <td>I like the game but near the last update it st...</td>\n",
       "    </tr>\n",
       "  </tbody>\n",
       "</table>\n",
       "</div>"
      ],
      "text/plain": [
       "        Game Name     Class                Title  \\\n",
       "0     Farmville 2  schlecht                  NaN   \n",
       "1    Die Simpsons       gut         Buchi0202136   \n",
       "2    Die Simpsons       gut    Suchtgefähr :) !!   \n",
       "3    Die Simpsons       gut  Dauerhafter Spaß...   \n",
       "4  Subway Surfers       gut                Great   \n",
       "\n",
       "                                         Review Text  \n",
       "0  Echt schlecht , immer wen ich versuche zu star...  \n",
       "1                 Suche noch freunde zum hinzufuegen  \n",
       "2  Ich find das Spiel gut,man muss nicht permanen...  \n",
       "3  ... durch immer neue Events. Schon 1 1/2 Jahre...  \n",
       "4  I like the game but near the last update it st...  "
      ]
     },
     "execution_count": 138,
     "metadata": {},
     "output_type": "execute_result"
    }
   ],
   "source": [
    "test.head()"
   ]
  },
  {
   "cell_type": "code",
   "execution_count": 142,
   "metadata": {},
   "outputs": [
    {
     "name": "stdout",
     "output_type": "stream",
     "text": [
      "CPU times: user 4min 27s, sys: 14.1 s, total: 4min 41s\n",
      "Wall time: 4min 42s\n"
     ]
    }
   ],
   "source": [
    "%time result = test['Review Text'].apply(lambda x: predict(x, params))"
   ]
  },
  {
   "cell_type": "code",
   "execution_count": 148,
   "metadata": {},
   "outputs": [
    {
     "data": {
      "text/plain": [
       "0      (bad, 24.71177312969205)\n",
       "1      (bad, 7.229119758952452)\n",
       "2      (bad, 71.83599943884803)\n",
       "3      (bad, 39.38009345437814)\n",
       "4     (good, 45.68513157370194)\n",
       "5      (bad, 8.004199608040208)\n",
       "6    (good, 1.3246324623491077)\n",
       "7      (good, 64.6410421311454)\n",
       "8     (good, 41.80048084638117)\n",
       "9    (good, 2.5266929912956395)\n",
       "Name: Review Text, dtype: object"
      ]
     },
     "execution_count": 148,
     "metadata": {},
     "output_type": "execute_result"
    }
   ],
   "source": [
    "result.iloc[:10]"
   ]
  }
 ],
 "metadata": {
  "kernelspec": {
   "display_name": "Python 3",
   "language": "python",
   "name": "python3"
  },
  "language_info": {
   "codemirror_mode": {
    "name": "ipython",
    "version": 3
   },
   "file_extension": ".py",
   "mimetype": "text/x-python",
   "name": "python",
   "nbconvert_exporter": "python",
   "pygments_lexer": "ipython3",
   "version": "3.7.1"
  },
  "varInspector": {
   "cols": {
    "lenName": 16,
    "lenType": 16,
    "lenVar": 40
   },
   "kernels_config": {
    "python": {
     "delete_cmd_postfix": "",
     "delete_cmd_prefix": "del ",
     "library": "var_list.py",
     "varRefreshCmd": "print(var_dic_list())"
    },
    "r": {
     "delete_cmd_postfix": ") ",
     "delete_cmd_prefix": "rm(",
     "library": "var_list.r",
     "varRefreshCmd": "cat(var_dic_list()) "
    }
   },
   "types_to_exclude": [
    "module",
    "function",
    "builtin_function_or_method",
    "instance",
    "_Feature"
   ],
   "window_display": false
  }
 },
 "nbformat": 4,
 "nbformat_minor": 2
}
