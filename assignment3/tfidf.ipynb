{
 "cells": [
  {
   "cell_type": "markdown",
   "metadata": {},
   "source": [
    "some observations    \n",
    "===============\n",
    "\n",
    "**vocabulary size**    \n",
    "tweet tokenizer / no preprocessing = 313803"
   ]
  },
  {
   "cell_type": "code",
   "execution_count": 45,
   "metadata": {},
   "outputs": [],
   "source": [
    "import pickle\n",
    "import pandas as pd\n",
    "import math\n",
    "from collections import Counter\n",
    "from nltk.tokenize import TweetTokenizer"
   ]
  },
  {
   "cell_type": "code",
   "execution_count": 15,
   "metadata": {},
   "outputs": [],
   "source": [
    "df = pd.read_csv('tweets.csv', sep='\\t', usecols=[1,4], names=['id', 'tweet'])"
   ]
  },
  {
   "cell_type": "code",
   "execution_count": 46,
   "metadata": {},
   "outputs": [],
   "source": [
    "tweets = df['tweet'].tolist()"
   ]
  },
  {
   "cell_type": "code",
   "execution_count": 30,
   "metadata": {},
   "outputs": [],
   "source": [
    "tokenizer = TweetTokenizer()"
   ]
  },
  {
   "cell_type": "code",
   "execution_count": 40,
   "metadata": {
    "scrolled": true
   },
   "outputs": [],
   "source": [
    "#@ Brandon: this takes a while use pickled version instead (below)\n",
    "#V = set()\n",
    "#for tweet in tweets:\n",
    "#    [V.add(token) for token in tokenizer.tokenize(tweet)]\n",
    "\n",
    "#TODO: we can basically reuse our old code here which cleans and tokenized the tweets"
   ]
  },
  {
   "cell_type": "code",
   "execution_count": 42,
   "metadata": {},
   "outputs": [
    {
     "data": {
      "text/plain": [
       "313803"
      ]
     },
     "execution_count": 42,
     "metadata": {},
     "output_type": "execute_result"
    }
   ],
   "source": [
    "len(V)"
   ]
  },
  {
   "cell_type": "code",
   "execution_count": 44,
   "metadata": {},
   "outputs": [],
   "source": [
    "#dump\n",
    "with open('vocabulary_naive.pickle', 'wb') as f:\n",
    "    pickle.dump(V, f)"
   ]
  },
  {
   "cell_type": "code",
   "execution_count": null,
   "metadata": {},
   "outputs": [],
   "source": [
    "#load\n",
    "with open('vocabulary_naive.pickle', 'rb') as f:\n",
    "    V = pickle.load(f)"
   ]
  },
  {
   "cell_type": "code",
   "execution_count": 122,
   "metadata": {},
   "outputs": [],
   "source": [
    "def tfidf(doc1, doc2, V, tweets):\n",
    "    \"\"\"\n",
    "    d1,d2 -> list of tokens\n",
    "    \"\"\"\n",
    "    #i think we can use this intersection here because words that are in the in one \n",
    "    #vector but not in the other result in zero multiplication\n",
    "    intersect = set(doc1).intersection(set(doc2))\n",
    "    c1 = Counter(doc1)#token count\n",
    "    c2 = Counter(doc2)#token count\n",
    "    d1 = {}\n",
    "    d2 = {}\n",
    "    for t in doc1:\n",
    "        if t not in d1.keys() and t in intersect:\n",
    "            #tf idf\n",
    "            tf = c1[t]\n",
    "            df = len([tweet for tweet in tweets if t in tweet]) #naive string matching\n",
    "            idf = len(V) / df\n",
    "            tfidf = (1 + math.log10(tf)) * (math.log10(idf))\n",
    "            d1[t] = tfidf\n",
    "    for t in doc2:\n",
    "        if t not in d2.keys() and t in intersect:\n",
    "            #tf idf\n",
    "            tf = c2[t]\n",
    "            \n",
    "            #naive string matching\n",
    "            #TODO: after tokenization and preprocessing was improved \n",
    "            #we should look if the token is in a tweet by comparing single tokens and not \n",
    "            #the whole string\n",
    "            df = len([tweet for tweet in tweets if t in tweet])\n",
    "            idf = len(V) / df\n",
    "            tfidf = (1 + math.log10(tf)) * (math.log10(idf))\n",
    "            d2[t] = tfidf\n",
    "            df_tfidf = pd.DataFrame().from_dict(d1, orient='index')\n",
    "            df_tfidf[1] = pd.DataFrame().from_dict(d2, orient='index')\n",
    "    return df_tfidf"
   ]
  },
  {
   "cell_type": "code",
   "execution_count": 146,
   "metadata": {},
   "outputs": [],
   "source": [
    "#@Brandon: its fun to play around with the those documents\n",
    "doc1 = \"this is a random tweet Hausarzt Affe Affe Affe\".split()\n",
    "doc2 = \"this is random a a a a a tweet Hausarzt Hausarzt Hausarzt Hausarzt Hausarzt I think bla foo Affe\".split()"
   ]
  },
  {
   "cell_type": "code",
   "execution_count": 147,
   "metadata": {},
   "outputs": [
    {
     "data": {
      "text/html": [
       "<div>\n",
       "<style scoped>\n",
       "    .dataframe tbody tr th:only-of-type {\n",
       "        vertical-align: middle;\n",
       "    }\n",
       "\n",
       "    .dataframe tbody tr th {\n",
       "        vertical-align: top;\n",
       "    }\n",
       "\n",
       "    .dataframe thead th {\n",
       "        text-align: right;\n",
       "    }\n",
       "</style>\n",
       "<table border=\"1\" class=\"dataframe\">\n",
       "  <thead>\n",
       "    <tr style=\"text-align: right;\">\n",
       "      <th></th>\n",
       "      <th>0</th>\n",
       "      <th>1</th>\n",
       "    </tr>\n",
       "  </thead>\n",
       "  <tbody>\n",
       "    <tr>\n",
       "      <th>this</th>\n",
       "      <td>1.771972</td>\n",
       "      <td>1.771972</td>\n",
       "    </tr>\n",
       "    <tr>\n",
       "      <th>is</th>\n",
       "      <td>0.716318</td>\n",
       "      <td>0.716318</td>\n",
       "    </tr>\n",
       "    <tr>\n",
       "      <th>a</th>\n",
       "      <td>0.431264</td>\n",
       "      <td>0.732705</td>\n",
       "    </tr>\n",
       "    <tr>\n",
       "      <th>random</th>\n",
       "      <td>3.369552</td>\n",
       "      <td>3.369552</td>\n",
       "    </tr>\n",
       "    <tr>\n",
       "      <th>tweet</th>\n",
       "      <td>2.472582</td>\n",
       "      <td>2.472582</td>\n",
       "    </tr>\n",
       "    <tr>\n",
       "      <th>Hausarzt</th>\n",
       "      <td>4.154234</td>\n",
       "      <td>7.057920</td>\n",
       "    </tr>\n",
       "    <tr>\n",
       "      <th>Affe</th>\n",
       "      <td>5.441336</td>\n",
       "      <td>3.683744</td>\n",
       "    </tr>\n",
       "  </tbody>\n",
       "</table>\n",
       "</div>"
      ],
      "text/plain": [
       "                 0         1\n",
       "this      1.771972  1.771972\n",
       "is        0.716318  0.716318\n",
       "a         0.431264  0.732705\n",
       "random    3.369552  3.369552\n",
       "tweet     2.472582  2.472582\n",
       "Hausarzt  4.154234  7.057920\n",
       "Affe      5.441336  3.683744"
      ]
     },
     "execution_count": 147,
     "metadata": {},
     "output_type": "execute_result"
    }
   ],
   "source": [
    "df_tfidf = tfidf(doc1, doc2, V, tweets)\n",
    "df_tfidf"
   ]
  },
  {
   "cell_type": "code",
   "execution_count": 139,
   "metadata": {},
   "outputs": [],
   "source": [
    "def cosine(vec1, vec2):\n",
    "    nominator = 0\n",
    "    denominator = 0\n",
    "    vec1_length = 0\n",
    "    vec2_length = 0\n",
    "    for v1,v2 in zip(vec1,vec2):\n",
    "        nominator += v1*v2\n",
    "        vec1_length += v1*v1\n",
    "        vec2_length += v2*v2\n",
    "    vec1_length = math.sqrt(vec1_length)\n",
    "    vec2_length = math.sqrt(vec2_length)\n",
    "    denominator = vec1_length * vec2_length \n",
    "    return nominator / denominator"
   ]
  },
  {
   "cell_type": "code",
   "execution_count": 148,
   "metadata": {},
   "outputs": [
    {
     "data": {
      "text/plain": [
       "0.9298679480866374"
      ]
     },
     "execution_count": 148,
     "metadata": {},
     "output_type": "execute_result"
    }
   ],
   "source": [
    "cosine(df_tfidf[0], df_tfidf[1])"
   ]
  },
  {
   "cell_type": "code",
   "execution_count": null,
   "metadata": {},
   "outputs": [],
   "source": []
  },
  {
   "cell_type": "code",
   "execution_count": null,
   "metadata": {},
   "outputs": [],
   "source": []
  }
 ],
 "metadata": {
  "kernelspec": {
   "display_name": "Python 3",
   "language": "python",
   "name": "python3"
  },
  "language_info": {
   "codemirror_mode": {
    "name": "ipython",
    "version": 3
   },
   "file_extension": ".py",
   "mimetype": "text/x-python",
   "name": "python",
   "nbconvert_exporter": "python",
   "pygments_lexer": "ipython3",
   "version": "3.6.7"
  }
 },
 "nbformat": 4,
 "nbformat_minor": 2
}
