{
 "cells": [
  {
   "cell_type": "markdown",
   "metadata": {},
   "source": [
    "some observations    \n",
    "===============\n",
    "\n",
    "**vocabulary size**    \n",
    "tweet tokenizer / no preprocessing = 313803    \n",
    "tweet tokenizer / with cleaning method = 260580    \n",
    "tweet tokenizer / with cleaning method, reduce length = 240963"
   ]
  },
  {
   "cell_type": "code",
   "execution_count": 1,
   "metadata": {},
   "outputs": [],
   "source": [
    "import pickle\n",
    "import pandas as pd\n",
    "import math\n",
    "from collections import Counter\n",
    "import sys\n",
    "import csv\n",
    "import string\n",
    "import re\n",
    "import emoji\n",
    "import nltk\n",
    "from nltk.tokenize import TweetTokenizer\n",
    "from nltk.corpus import stopwords\n",
    "from itertools import chain\n",
    "from indexer import TwitterIQ"
   ]
  },
  {
   "cell_type": "markdown",
   "metadata": {},
   "source": [
    "We'll assign some variables for our `clean` function to use. We're doing so outside of the function itself so that they needn't be defined every time we want to use the clean method."
   ]
  },
  {
   "cell_type": "code",
   "execution_count": 2,
   "metadata": {
    "code_folding": [
     1
    ]
   },
   "outputs": [],
   "source": [
    "tokenizer = TweetTokenizer(reduce_len=True)\n",
    "unicodes2remove = [\n",
    "    # all kinds of quotes\n",
    "    u'\\u2018', u'\\u2019', u'\\u201a', u'\\u201b', u'\\u201c', \\\n",
    "    u'\\u201d', u'\\u201e', u'\\u201f', u'\\u2014',\n",
    "    # all kinds of hyphens\n",
    "    u'\\u002d', u'\\u058a', u'\\u05be', u'\\u1400', u'\\u1806', \\\n",
    "    u'\\u2010', u'\\u2011', u'\\u2012', u'\\u2013',\n",
    "    u'\\u2014', u'\\u2015', u'\\u2e17', u'\\u2e1a', u'\\u2e3a', \\\n",
    "    u'\\u2e3b', u'\\u2e40', u'\\u301c', u'\\u3030',\n",
    "    u'\\u30a0', u'\\ufe31', u'\\ufe32', u'\\ufe58', u'\\ufe63', \\\n",
    "    u'\\uff0d', u'\\u00b4'\n",
    "]\n",
    "\n",
    "punctuation = string.punctuation.replace('@', '') + ''.join(unicodes2remove)\n",
    "# regex to match urls (taken from the web)\n",
    "urlregex = re.compile('http[s]?://(?:[a-zA-Z]|[0-9]|[$-_@.&+]|[!*\\(\\),]'\n",
    "                           '|(?:%[0-9a-fA-F][0-9a-fA-F]))+')\n",
    "# keep @ to be able to recognize usernames\n",
    "punctuation = string.punctuation.replace('@', '') + ''.join(unicodes2remove)\n",
    "punctuation = punctuation.replace('#', '')\n",
    "# a bunch of emoji unicodes\n",
    "emojis = ''.join(emoji.UNICODE_EMOJI)\n",
    "emojis = emojis.replace('#', '')\n",
    "# combined english and german stop words\n",
    "stop_words = set(stopwords.words('english') + stopwords.words('german'))"
   ]
  },
  {
   "cell_type": "code",
   "execution_count": 3,
   "metadata": {},
   "outputs": [],
   "source": [
    "def clean(s):\n",
    "    \"\"\"\n",
    "    Normalizes a string (tweet) by removing the urls, punctuation, digits,\n",
    "    emojis, by putting everything to lowercase and removing the\n",
    "    stop words. Tokenization is performed aswell.\n",
    "\n",
    "    :param s the string (tweet) to clean\n",
    "    :return: returns a list of cleaned tokens\n",
    "    \"\"\"\n",
    "    s = s.replace('[NEWLINE]', '')\n",
    "    s = s.replace('…', '...')\n",
    "    s = urlregex.sub('', s).strip()\n",
    "    s = s.translate(str.maketrans('', '', punctuation + string.digits \\\n",
    "                                  + emojis)).strip()\n",
    "    s = s.lower()\n",
    "    s = tokenizer.tokenize(s)\n",
    "    return s"
   ]
  },
  {
   "cell_type": "markdown",
   "metadata": {},
   "source": [
    "In the next few cells, we'll finish setting everything up. In order:\n",
    "\n",
    "* `inv_index` is an inverted index (from past assignments) so that we can quickly get terms' document frequencies\n",
    "* `df` is a Pandas DataFrame containing all the tweets, their authors, IDs, and other info\n",
    "* `tweets` is a Pandas Series containing the tweets\n",
    "* `tokenized` is a Pandas Series of lists containing the results of the above `clean` method, so lists of tokenized terms\n"
   ]
  },
  {
   "cell_type": "code",
   "execution_count": 4,
   "metadata": {},
   "outputs": [],
   "source": [
    "inv_index = TwitterIQ('tweets.csv')"
   ]
  },
  {
   "cell_type": "code",
   "execution_count": 5,
   "metadata": {
    "scrolled": true
   },
   "outputs": [],
   "source": [
    "df = pd.read_csv('tweets.csv', sep='\\t', usecols=[1,4], names=['id', 'tweet'])"
   ]
  },
  {
   "cell_type": "code",
   "execution_count": 6,
   "metadata": {},
   "outputs": [],
   "source": [
    "tweets = df['tweet']"
   ]
  },
  {
   "cell_type": "code",
   "execution_count": 7,
   "metadata": {},
   "outputs": [],
   "source": [
    "tokenized = tweets.apply(clean)"
   ]
  },
  {
   "cell_type": "markdown",
   "metadata": {},
   "source": [
    "## TF-IDF"
   ]
  },
  {
   "cell_type": "code",
   "execution_count": 8,
   "metadata": {},
   "outputs": [],
   "source": [
    "def compute_tfidf(term, doc, tweets):\n",
    "    \"\"\"\n",
    "    \"\"\"\n",
    "    counts = Counter(doc)\n",
    "    tf = counts[term] # term frequency\n",
    "    if not tf:\n",
    "        return 0\n",
    "    df = inv_index[term].freq # document frequency\n",
    "    idf = len(tweets) / (df + 1) # idf, adding 1 to `df` to avoid zero division\n",
    "    return (1 + math.log10(tf) * (math.log10(idf)))"
   ]
  },
  {
   "cell_type": "code",
   "execution_count": 9,
   "metadata": {
    "code_folding": []
   },
   "outputs": [],
   "source": [
    "def tfidf(doc1, doc2, tweets):\n",
    "    \"\"\"\n",
    "    This function calculates the tf-idf scores for two documents and returns them as a dictionary\n",
    "    wherein each value might be best visualized as:\n",
    "    \n",
    "    {term: (.61, .97)}\n",
    "    \n",
    "    Here .61 and .97 are tfidf scores from `compute_tfidf`\n",
    "    \n",
    "    doc1,doc2 -> list of tokens\n",
    "    tweets: a collection of lists of tokenized tweets\n",
    "    \"\"\"\n",
    "    intersect = set(doc1) | (set(doc2))\n",
    "        \n",
    "    return {term : (compute_tfidf(term, doc1, tweets), compute_tfidf(term, doc2, tweets))\n",
    "            for term in intersect}"
   ]
  },
  {
   "cell_type": "code",
   "execution_count": 10,
   "metadata": {},
   "outputs": [],
   "source": [
    "def cosine_dict(vector):\n",
    "    \"\"\"Gets the cosine similarity of two vectors represented as dictionaries.\"\"\"\n",
    "    if not vector:\n",
    "        return 0\n",
    "    \n",
    "    numerator = 0\n",
    "    denominator = 0\n",
    "    vec1_length = 0\n",
    "    vec2_length = 0\n",
    "    # Walks through all tfidf pairs in the dictionary\n",
    "    for pair in vector.values(): \n",
    "        numerator += pair[0] * pair[1] # Multipies each value pair\n",
    "        vec1_length += pair[0]**2 # Squares the first value\n",
    "        vec2_length += pair[1]**2 # Squares the second value\n",
    "    vec1_length = math.sqrt(vec1_length)\n",
    "    vec2_length = math.sqrt(vec2_length)\n",
    "    denominator = vec1_length * vec2_length\n",
    "    if not denominator:\n",
    "        return 0\n",
    "    return numerator / denominator"
   ]
  },
  {
   "cell_type": "code",
   "execution_count": 21,
   "metadata": {},
   "outputs": [],
   "source": [
    "def top_x(x, q, tweets, cleaned=False):\n",
    "    \"\"\"\n",
    "    x: top x number\n",
    "    q: query to compare to\n",
    "    tweets: all the tweets -> assumed to be cleaned/tokenized\n",
    "    cleaned: whether `q` is cleaned\n",
    "    \"\"\"\n",
    "    if not cleaned:\n",
    "        q = clean(q)\n",
    "    \n",
    "    return sorted([(cosine_dict(tfidf(q, tweet, tweets)), ' '.join(tweet)) for tweet in tweets], reverse=True)[:x]"
   ]
  },
  {
   "cell_type": "markdown",
   "metadata": {},
   "source": [
    "First Text\n",
    "=========="
   ]
  },
  {
   "cell_type": "code",
   "execution_count": 16,
   "metadata": {},
   "outputs": [],
   "source": [
    "article = \"\"\"\n",
    "President Donald Trump on Thursday ended his silence on Michael Cohen's prison sentencing, claiming he never directed his longtime attorney to break the law and that he bears no responsibility for Cohen's campaign finance violations.\n",
    "\n",
    "In his first tweets since Cohen was sentenced to three years for a series of tax fraud and lying charges on Wednesday, Trump argued that Cohen pleaded guilty to breaking campaign finance laws to get a lighter sentence. The president also questioned whether any legal violations even occurred.\n",
    "\n",
    "“I never directed Michael Cohen to break the law. He was a lawyer and he is supposed to know the law. It is called ‘advice of counsel,’ and a lawyer has great liability if a mistake is made. That is why they get paid,\" Trump wrote on Twitter across a flurry of posts Thursday morning. \"Despite that many campaign finance lawyers have strongly stated that I did nothing wrong with respect to campaign finance laws, if they even apply, because this was not campaign finance.\"\n",
    "\"\"\"\n",
    "# Source: [https://www.politico.com/story/2018/12/13/trump-breaks-silence-michael-cohen-sentencing-1061817]"
   ]
  },
  {
   "cell_type": "code",
   "execution_count": 26,
   "metadata": {
    "scrolled": false
   },
   "outputs": [],
   "source": [
    "#top = top_x(100, article, tokenized)\n",
    "#top\n",
    "\n",
    "#we pickled the result -> see below"
   ]
  },
  {
   "cell_type": "code",
   "execution_count": 27,
   "metadata": {},
   "outputs": [
    {
     "data": {
      "text/plain": [
       "[(0.4871853685799716,\n",
       "  '@bikerbot @yourmomsbackup @roylellis @jpelusio @sensanders yeah and according to trump he planted a spie in his campaign in reality that was a informant of the fbi following protocol you know the fbi that was investigating it so how comes you support trump of you believe he is a russian operative and obama shpuld have stopped him'),\n",
       " (0.4694777261003532,\n",
       "  'great piece on the carbohydrateinsulin model of obesity debate with a disclaimer to remember for basically anyone making any claim ever i dont want to be on the wrong side of history and one way to do that is to make overly confident and categorical predictions'),\n",
       " (0.46807387467777445,\n",
       "  '@nabbingkeita @jclfc the problem was a blockade of his tmj and cervical musculature due to a hit in the jaw he received a couple months earlier that led to problems with his metabolism'),\n",
       " (0.46667501610004897,\n",
       "  '@yudakaneo it was odd that the rather cheerful guy wasnt opening up the door and takahiro had to inhale a deep breath to collect patience either he is ignoring him on purpose or he is not present at home after a few more tries he would probably skip over to the window and use hands as'),\n",
       " (0.46109469127490826,\n",
       "  '@deviantofficer he makes a rather surprised noise but is still quick to return the hug hes not even able to kill bugs shes right he chuckles and shakes his head no i just i thought now that dad is locked up its the perfect time to meet my uncles that he never allowed me'),\n",
       " (0.45674123153644014,\n",
       "  '@kthopkins @therebeltv oh come on wtf has she said that was wrong it wasnt possible for her to arrest those people just on behalf of that famous list as a mayor she has to respect that law she sure has feelings and knows that a mother of a dead child is very angry towards her but law is law'),\n",
       " (0.45155538123863165,\n",
       "  'at the beginning of his career he didnt use to celebrate his goals once a referee even thought he was mocking the other team and almost gave him a yellow cardhe started to be more cheerful after corinthians and its demanding fans this video shows how reserved and cool he was'),\n",
       " (0.4494766933068203,\n",
       "  'there is a hot chav on the plattform who just announced to his gf he has to piss he went next to the lift and just pissed on the rails i could hear his thick forcefull stream hitting the gravel and could barely restrain myself not to ask him if i should suck him dry'),\n",
       " (0.44881211884114713,\n",
       "  '@omgkookiestuff @btslovessexo i never had to see this side of armys that is shown to me in the comments here on a tweet that is about making peace its really sad that you are being rude to a fellow army'),\n",
       " (0.44816224821007017,\n",
       "  'of secrets he was hiding behind a cold behavior but a few people knew that something was going on with leonard and that there was something with him what happened in the past because the thief was stealing somthing since he was a kid and in that'),\n",
       " (0.44816224821007017,\n",
       "  'of secrets he was hiding behind a cold behavior but a few people knew that something was going on with leonard and that there was something with him what happened in the past because the thief was stealing somthing since he was a kid and in that'),\n",
       " (0.447473854018968,\n",
       "  '@herculeansoul it was adorable alec has no reason to be ashamed magnus he wanted to stay never for a second did he think of fleeing the scene hey you were sweet and lovely you have nothing to apologize for it was a lovely night and i was very happy youre entertaining he'),\n",
       " (0.4458050962623106,\n",
       "  'it was a hard decision but i decided to sell my xbox one because i was just too addicted i played games for hours a day and the is a thing i want to change from now on i concentrade on school thx to @thoma and @will for the hard carry in all games we played together'),\n",
       " (0.4458050962623106,\n",
       "  'it was a hard decision but i decided to sell my xbox one because i was just too addicted i played games for hours a day and the is a thing i want to change from now on i concentrade on school thx to @thoma and @will for the hard carry in all games we played together'),\n",
       " (0.44463095220813204,\n",
       "  '@harryhudson i went for a walk and got time to reflect on all the things going on in my life came back with a lot of energy and was quite happy to know so many people i love'),\n",
       " (0.44435127807836683,\n",
       "  'that i went to school on my free day and i got kinda pissed but then i looked at niall and it was okay haha after niall was done we went to the kindergarden and a kid jumped into his arm and he carried them and oh boy does he look good with kids skdk he was talking to the teacher'),\n",
       " (0.4423522898912801,\n",
       "  '@weirdrebelgirl in a few minutes if you want tohe put down the datapad that he worked on before naya arrivedi already prepared everything the shuttle is ready and the hideout is safehe was wondering who of them was more nervous and excited they had good reasons to be'),\n",
       " (0.4417634500901539,\n",
       "  'johnny once admitted to me that he is whipped for yuta and that he is the cause for his asthma'),\n",
       " (0.4413980061192561,\n",
       "  '@idontlikefire they were back on earthxbut in that moment as leo got up ray opened his mouth to say something but in that same moment he could feel the lips from the other male on his own and even if he was very surprised he was kissing leo back immediately and put his hands on'),\n",
       " (0.4408234894824164,\n",
       "  '@kyouhanabi the sink as wellnow that she was so close to him kohaku pulled her back to his chest and got a hold of both of her hands clapping them together with his over hersthank you for the food he immediately let go of her after he did what he did and started to bring the'),\n",
       " (0.4408234894824164,\n",
       "  '@kyouhanabi the sink as wellnow that she was so close to him kohaku pulled her back to his chest and got a hold of both of her hands clapping them together with his over hersthank you for the food he immediately let go of her after he did what he did and started to bring the'),\n",
       " (0.44066820400176115,\n",
       "  'to know #avicii died was brutal and sad enough but to get the news that he had the feeling of being so alone and having to deal with every negative thoughts all alone that he commited suicide that makes me i am lost for words #ripavicii'),\n",
       " (0.4403252616808412,\n",
       "  'i remember a book where the main character developps leprosy and gets really depressed but then hes transported to a magical kingdom where his body works normally and the first thing he does is rape somebody and the rest of the book is supposed to be his redemption'),\n",
       " (0.4382748669067136,\n",
       "  'today is the last day of ramadan from tomorrow on i can eat and drink for h and and dont have to wait till pm to finally have my first meal of the daaay is it rude that i am kinda happy'),\n",
       " (0.4375144200046359,\n",
       "  'why do i have a father that doesnt understand jokes i said as a joke that it wasnt too late for bed after that he got very mad and has chased me through the house and even tried to open the locked door after that i had to study maths for hours why'),\n",
       " (0.43671891050568584,\n",
       "  'im so damn proud of my son he was so scared of learning to ride a bike that the bike stood in the basement for about a year he gave it a try today and he was able to ride the bike without help #proudmom'),\n",
       " (0.4361626110668816,\n",
       "  '@rebeccawd thankshave to make new appointment was there sorry to hear you had a tumour on the is the same plant that was flattened on jennifer breas picturei bet that is no coincidence who knows though'),\n",
       " (0.43616182099693634,\n",
       "  'the craziest thing about all this is that he engaged to her on the th july years ago one time was released as a single where kind of his career started and he might donz even know it im not angry with him im happy im happy for the moments and love he have me'),\n",
       " (0.43563513590819947,\n",
       "  '@simonegiertz congrats on subs and sorry i didnt comment yet but i was kinda shocked how real the title of that video was youre always such a positive appearence on the internets i know youre strong enough to get through the illness but of all people you dont deserve to have a tumor'),\n",
       " (0.43473809786339007,\n",
       "  '@iuliajulienne this made lestat really angry and that she called him a monster he hit his hand at the table and the filled wine glass dropped to the ground would you like to be the next he showed his fangs and looked hungrily at her it was clear to see that lestat wasnt himself'),\n",
       " (0.4343063679735804,\n",
       "  '@heroicsoldicr he is pretty convincingi retort with the attempt of a smile im still not a hundred percent sure the steve never touched me like that before hugs affectionate pats maybe even a kiss on the cheek on very rare occasions and that in a rather cheerful joking'),\n",
       " (0.433679913554235,\n",
       "  '@complex wtf why is everyone keep supporting him he is a trump supporter and said that slavery was a choice i am just disappointed and ashamed of the whole hip hop community and the people that still support him you aint shit'),\n",
       " (0.4321047467116393,\n",
       "  'there is actually a story that im working on for a few years now which was supposed to be published with chapters on fanfiction websites well i decided that this story will instead be used for the very first big rpg i want to create as a game developer later on in my life'),\n",
       " (0.4320945740199145,\n",
       "  'on the one hand i was like they have a point but on the other hand i have never been so delighted for someone to win a game just to get chicken xddd your face is a blessing what an angel'),\n",
       " (0.4318455713272198,\n",
       "  'and i broke him runs away like a coward because he has no answers and cant back up his bullshit claims he is about thirty tweets to late to pull the whole youre a troll excuse'),\n",
       " (0.43155912001255337,\n",
       "  'watching some lets plays of #detroitbecomehuman and i have to admit that i love the setting and ai and all the stuff and on the other hand i am really scared of that kind of future anyways seems to be a really impressive game so far'),\n",
       " (0.43115901778722143,\n",
       "  '@bbcnewsnight @maitlis @beatrixvstorch as a german i deeply apologize for all of the bullshit this so called alternative does and says it is just sad to know that nearly of my fellow citizens voted for these racists who obviously suffer from a massive loss of reality and no im not sorry to say it that clear'),\n",
       " (0.43046036845739216,\n",
       "  'whats making me even more angry is that nobody gives a shit about him wanting to actually commit suicide he has a damn plan and that plan is probably the most successful one for him and i cant do anything to help him out of it'),\n",
       " (0.43030730998884514,\n",
       "  '@mesutozil the hate on germany is unreal victimhood² amazing why did he even play the world cup when he felt unwanted as a son of a turk a mother of a german i am absolutely disgusted by this behaviour mesut would put a knive in the back of the people that supported and trusted him'),\n",
       " (0.4295550720920091,\n",
       "  'i am absolutely disgusted by the people that actually fucking thought mino did some fucked up shit like he was following an account on instagram and based of off that he is automatically a pdophile bitches need be patient and wait for the real facts and not jump the gun'),\n",
       " (0.428222216597565,\n",
       "  'today we found out that the it specialist of our school died on a heart attack on saturday and the s are so disrespectful he was a little bit bigger but still not obese and some of them are saying things like well he shouldnt have eaten that much'),\n",
       " (0.428222216597565,\n",
       "  'today we found out that the it specialist of our school died on a heart attack on saturday and the s are so disrespectful he was a little bit bigger but still not obese and some of them are saying things like well he shouldnt have eaten that much'),\n",
       " (0.427986636732055,\n",
       "  '@bighitent this is sooo a full aesthetic for eyes and ears now im really excited to listen to the full album and be more afraid not to get a single ticket for the tour where i could see this on stagebut tae you did a great job with #singularity'),\n",
       " (0.42726458241459925,\n",
       "  '@prosperjoon i think in one of the old vids they said that he was the most depressed person pre debut so he decided on this to radiate it and for good measure i guess and hope it worked'),\n",
       " (0.42675453625043486,\n",
       "  '@nospeedticket against him and doesnt want to give it to him because he could felt a storm and the cup was gone in his hand right in that moment as he wanted to drink somethingbarry the thief grumbled very unhappy because he knew that this could only be the speedster no'),\n",
       " (0.4258888835922782,\n",
       "  '@georgeharito btw i had to think of this after our exchangeit took me about years to get to this point on the way i was nearly scared off maybe a million timesgerman is not easy and doesnt make sense in a lot of places'),\n",
       " (0.422959502693294,\n",
       "  '@petersweden what is the uk most afraid of the truthclinging to a narrative that is biting them on the behind as they are clueless on what to do about itcould become a repeat of the usa in parts of the uk will demand independence from british rule'),\n",
       " (0.4223756489784592,\n",
       "  '@electrekco @fredericlambert so sad to hear that i really hope you you gets his respect from public and press as a pioneer and absolut serious minded evconnaisseur he just knows what he talks about only sad thing i wouldnt have expected that the area of homologation of a car is important'),\n",
       " (0.4220992308085028,\n",
       "  'unfortunately it happens often that they open the albums to look at the photos or even to steal them thats why she was even more surprised to see me im not in my teens since a while now so i told her in a shortened form about the history of @btstwt that they mostly'),\n",
       " (0.4213893669411337,\n",
       "  '@kossehyena my opinion if an artist is so nice and does two sketches for me to choose from and the other one goes unused that would be totally sad also i as a customer have no rights on that sketch but the artist has every right to use it however they want'),\n",
       " (0.421282928575041,\n",
       "  'i told my doctor i want a new asthma spray so ofc he asked me why and i said i would like to have the one i was prescribed to in the very beginning and i noticed that the other one helps me better even if its just a little when i use it i dont need to use it for a month'),\n",
       " (0.4193957333869306,\n",
       "  '@yifanlu so on the vulnerability for ensõ is patched its interesting that you stated people could just try to guess the offset and make a custom installer for seems a hack for is not that far away then'),\n",
       " (0.4193957333869306,\n",
       "  '@yifanlu so on the vulnerability for ensõ is patched its interesting that you stated people could just try to guess the offset and make a custom installer for seems a hack for is not that far away then'),\n",
       " (0.4193668855260471,\n",
       "  '@dennisa @realdonaldtrump dont worry british did not take his behavior as an insult it was more a confirmation that trump is an elephant wherever he goes actually it is amusing that trump did not get it that he was taken out of london did not get the welcome of a president but shows off about it'),\n",
       " (0.41915221558771454,\n",
       "  '@gentlemandeath the boy listened to the words of the vampire and followed him out to the streets where he thought they could have peace until a man asked for money or they will die henri hid behind lestat and watched how he grabbed the mans throat and was very surprised of the unnatural'),\n",
       " (0.4191355129170745,\n",
       "  'this letter is a blackmail letter it is a dictum of behavior that instructs citizens how to express themselves and thus undermines the foundations of any democratic system they again use their antisemitism as a muzzle to stifle any criticism of the only apartheid democracy'),\n",
       " (0.4191249754357833,\n",
       "  '@jouishishi ive maybe coped with a third of the stuff from that time sometimes something unrelated happens and i immediately link it back to that time and get incredibly angrysadhurt im really tired of this shit i can only hope that ill be able to cope with the rest with a therapist'),\n",
       " (0.41902842374061444,\n",
       "  '@rikargaming @gjesusi @trippieaustin @tsmmyth the reason he is not doing so well in competition its because he is young and very very nervoushe shit his pants at the interviewu have a pointyeah he didnt play the game that much to actually get better at itbut he has timeno need to rush if the potential is there'),\n",
       " (0.4189473458985132,\n",
       "  '@sweetjeonkook @btstwt i was so proud and you could tell that he was so content too with the way his song acted as a connection between army and bts and the fact that he created it it was such a powerful moment aaah'),\n",
       " (0.41884064016574707,\n",
       "  '@jerkinkarlo @iidannyboi @fazetass @denisp @jacko the problem is ea has no competition and thats why they can just monetize the game as they like nobody will ever play pes because that game is a fucking mess if people want to change the game they have to pull together and fuck ea as a whole and not whine all alone on twitter'),\n",
       " (0.41884064016574707,\n",
       "  '@jerkinkarlo @iidannyboi @fazetass @denisp @jacko the problem is ea has no competition and thats why they can just monetize the game as they like nobody will ever play pes because that game is a fucking mess if people want to change the game they have to pull together and fuck ea as a whole and not whine all alone on twitter'),\n",
       " (0.4186742490114905,\n",
       "  '@dvntownsend @rvanpoederooyen @mikestjean @davetheyoung @beavenlight i was a little shocked to see that death of music was left off the om live albumlike a presquidintervention version of sorts but luckily it is only a glitch in the sleeve designor was this on purpose'),\n",
       " (0.41854709075480256,\n",
       "  '@evileader he gives his low elo a shake and screams ive made a bad mistake the only other sounds the break of distant waves and birds awake the low elo is random cancerous and deep but he has promises to keep tormented with nightmares he never sleeps'),\n",
       " (0.4184603260284846,\n",
       "  'brent faiyaz on sonders origins album sonder son and why he only spent minutes at the grammys its not an uncommon practice for musicians to get tattooed to mark the completion of a new album a trend embraced by the likes of justin bieber and'),\n",
       " (0.41824921688469263,\n",
       "  'hopefully there is a butterfly in nialls body and supplying his organs with everything they need in order to retain a permanently well working metabolism and a well being of high quality i want him to be over the moon and to feel healthy all the time with no exceptions'),\n",
       " (0.4177893943535045,\n",
       "  '@stevegrrogers told us scary stories about jotuns snatching children at night so i found out i was one of the monsters i was so scared of growing up that my whole life was based on a lie and that all the promises odin made of thor and i being equals to the throne being false he never'),\n",
       " (0.41747987409044557,\n",
       "  '@davidllada then you missed among other stuff that the accounts wont ever be closed that he will travel even more to gain support for his presidential campaign how he won a court battle vs british media and gifted the compensation money to autistic children'),\n",
       " (0.4172411903105941,\n",
       "  'i am very mad that we never got the studio version of so longthis song speaks to me on so many levels and i only get to listen to it on youtube and i dont like that'),\n",
       " (0.4165211814465962,\n",
       "  '@breitzbachbea i mean i am not angry that it happens it is just boring the story is about a ghost that hunts this guy bc he is sexually frustrated and then the ghost says he like him and that he is so cute that he just has to bully him and i am like okay i stopped after'),\n",
       " (0.41608792032269276,\n",
       "  'i laughed way to har because of iannones fan question already the fact that he needed ages to understand it but the fact that he is the most scared of marc made my day'),\n",
       " (0.41549412713494255,\n",
       "  'i want to make a character that has a komodo dragon as a pet and for them it is the most normal thing and everyone else is just terrifiedbcobvious reasons'),\n",
       " (0.41484999575552994,\n",
       "  'i took my coworker on the ferry for the first time and she was absolutely flabbergasted and amazed by the thought and act of a car getting on a boat'),\n",
       " (0.4142863770672052,\n",
       "  '@warriorizzyl alec wasnt in the best of moods he was actually very pissed and overprotective like always that was the reason why he was knocking out the vampires which came in his way and tried to stop himno one could actually stop him when it comes to protect his sister and she'),\n",
       " (0.41388702629010665,\n",
       "  '@mysticwolf @bullethellhoney @gameoverhd @doctorps nicly put out of context to fit an agenda i would have bought the pro if it had more power envy is the wrong word more sad the console is cheap money wise and hardware wise i want the games to look great in details textures and all and k is a part of that as steady frames'),\n",
       " (0.4131612660174496,\n",
       "  '@publiuspenned and if you even open your mouth about hamilton you are accused of fandoming the broadway musical which is the killer of any attempt at having a real discussion and for all that it is worth analizing hamiltons influence on the public opinion is scientifically a thing'),\n",
       " (0.41242942610647976,\n",
       "  '@thatotherlance keith has not a problem and is not sad that he was never in a yearbookprobally he would remove such kind of books after a whilebut yes everything went to a other direction and for both in a good waylance became a really good pilot a super sharpshooter and'),\n",
       " (0.412342591006784,\n",
       "  'steve rogers being the old man he is starts to get dementia so he still tries to skype bucky and is confused and sad because bucky isnt answering his call even tho he always used to pick up in a heartbeat and steves eyes begin to water every time wondering what he did wrong'),\n",
       " (0.4115074070864278,\n",
       "  '@hodelirious @fortnitegame probably has something to do with the length as well houer far cry is like not that ez to take and i think many people dont want to stop in the middle to continue laterbut sad anyways he sure a beast but i didnt startet watching him because he is good anyways'),\n",
       " (0.4113456631119316,\n",
       "  '@suarez @mm he was the best player for months and because he simply had no space and barely any possession to show what hes capable of he has a cancerous attitude always the scapegoat it is actually getting boring'),\n",
       " (0.4113456631119316,\n",
       "  '@suarez @mm he was the best player for months and because he simply had no space and barely any possession to show what hes capable of he has a cancerous attitude always the scapegoat it is actually getting boring'),\n",
       " (0.41112677259157376,\n",
       "  '@kamestudent piccolo expected his opponent to make a frontal strike thats where he was wrong out of nowhere a red stick expanded itself and threw goku into the air the tall demon was quite shocked and looked up suddenly a blue wave is coming at him his eyes are expanding from the'),\n",
       " (0.4101983475275306,\n",
       "  'stupid but fine he walked up to his big brother and took his hand he exchanged the crown on his head with thors hand and sighed a little with a changed deepened voice he said i king thor from os asd here appoint jack frost to be the new king'),\n",
       " (0.4101983475275306,\n",
       "  'stupid but fine he walked up to his big brother and took his hand he exchanged the crown on his head with thors hand and sighed a little with a changed deepened voice he said i king thor from os asd here appoint jack frost to be the new king'),\n",
       " (0.4097067666860031,\n",
       "  '@maaikees good i think i expected to be more nervous then i was at the end and it is definitely a good feeling to share some knowledge and give insides and of course it helped to give the talk in german how much time do you need to prepare a talk of h'),\n",
       " (0.4096254393025102,\n",
       "  '@mrrovous @pewdiepie absolutely not the ending is kinda flat does that even make sense lol well it never occurred to me be dramatic i didnt even get sad i was just happy to be a apart of this oh btw its based on a true story'),\n",
       " (0.4091401049563743,\n",
       "  '@theneumann @lovetheaandnra @dbongino dont let that twit bother you hes just scared you will take the only thing he has to compensate his feelings of inadequacies i mean after all this person sounded like he thinks being a woman is being weak kinda wonder if hed say that to his mom or the other half of the us'),\n",
       " (0.40890556064539413,\n",
       "  'havent had the chance to listen to the full @shawnmendes album but what i listened to is great and now im even more pissed that i couldnt get any tickets for his show'),\n",
       " (0.4086040883105514,\n",
       "  '@rossadillon iirc the only thing joker is really afraid of is when someone tries to find out who he was as far as i know he tampered the chemicals he fell in so no one could find it out that way and jumped off a cliff to prevent batman from telling him his old name'),\n",
       " (0.4085236025972635,\n",
       "  'so my psychologist and i talked about rw and he also thinks that its a harmfull show and he said that he was really angry when he found out about it hes also the first person to say that he understands my feelings towards itsince i have to deal with shit like depression'),\n",
       " (0.40845423971102546,\n",
       "  'i started to be a fan in that time when they went on their break im happy that i found them but sad because i came to late for the first round of one direction'),\n",
       " (0.407974149515389,\n",
       "  'today is the day of semi of the #esc i was live in the arena for the jury show and must say i was most surprised by the performance of #malta and #hungary they lifted their songs on a whole new level and have good chances of qualifying #eurovision #allaboard'),\n",
       " (0.4077342411595785,\n",
       "  'someone who think mefloquine is for tuberculosis prophylaxis and was given out like candy in vietnam and deny that it was given to detainees in gitmo to prevent malaria cases on cuba helped to wrote the camp xray medical sop is that true @usarmy @mjgranger'),\n",
       " (0.4073496462908712,\n",
       "  'he was fucking nervous standing for the apartment block and waiting for @thefallenflame to come downhis parents wanted to meet his mate he hadnt told them that hes an omega this is going to become a crazy meetingearliertext to baby boy » babe sorry ›'),\n",
       " (0.4070440693927977,\n",
       "  '@itasergods would want to know the reasonbut honestly he was rather happy about the fact that she didnt push and he was very thankful for it since talking about it still hurt though he knew that it was important to get done with this topic even'),\n",
       " (0.406152665380762,\n",
       "  '@bebischof @dxbydtjasq well it is like x to all kinds of supplements how multivitamins are to vitamin in other words a mix of several things the problem is the dose depending on the body weight metabolism and other food intake it may overdose on some of them and the liver is overwhelmed'),\n",
       " (0.406152665380762,\n",
       "  '@bebischof @dxbydtjasq well it is like x to all kinds of supplements how multivitamins are to vitamin in other words a mix of several things the problem is the dose depending on the body weight metabolism and other food intake it may overdose on some of them and the liver is overwhelmed'),\n",
       " (0.4058725548917347,\n",
       "  '@joyannreid @pampylu you are wrong if you think trump is the probleme he is a mere small symptom of a systematic cancer ask the antigunkids go to and look up the failures of us democracy'),\n",
       " (0.4058725548917347,\n",
       "  '@joyannreid @pampylu you are wrong if you think trump is the probleme he is a mere small symptom of a systematic cancer ask the antigunkids go to and look up the failures of us democracy'),\n",
       " (0.4053397070210704,\n",
       "  'i didnt support any of his actions or his music cause i know that he did in the past a lot of wrong thingsbut i could never be happy about someones death and im just disgusted how many people think this situation is funny because that boy has famillyfriends'),\n",
       " (0.4052552749465728,\n",
       "  '@pgmayday bayonetta is not a very interesting character to watch imo and a lot of people agree the toxicity is a problem but that is sadly the way the internet voices criticism')]"
      ]
     },
     "execution_count": 27,
     "metadata": {},
     "output_type": "execute_result"
    }
   ],
   "source": [
    "with open('first100.pickle', 'rb') as f:\n",
    "    top = pickle.load(f)\n",
    "top"
   ]
  },
  {
   "cell_type": "markdown",
   "metadata": {},
   "source": [
    "Second Text\n",
    "==========="
   ]
  },
  {
   "cell_type": "code",
   "execution_count": 32,
   "metadata": {},
   "outputs": [
    {
     "data": {
      "text/plain": [
       "\"Die Wartezeit beträgt ca 15 Minuten[NEWLINE]nach 25 fucking Minuten immer noch in der Warteschleife vom @hmdeutschland Kundenservice.[NEWLINE]And I'm kinda pissed... https://t.co/EFCBDWwn7F\""
      ]
     },
     "execution_count": 32,
     "metadata": {},
     "output_type": "execute_result"
    }
   ],
   "source": [
    "article2 = tweets[119737]\n",
    "article2"
   ]
  },
  {
   "cell_type": "code",
   "execution_count": 31,
   "metadata": {},
   "outputs": [
    {
     "data": {
      "text/plain": [
       "[(1.0000000000000002,\n",
       "  'die wartezeit beträgt ca minutennach fucking minuten immer noch in der warteschleife vom @hmdeutschland kundenserviceand im kinda pissed'),\n",
       " (0.4082482904638631, 'im kinda pissed'),\n",
       " (0.4082482904638631, 'im fucking pissed'),\n",
       " (0.4082482904638631, 'im fucking pissed'),\n",
       " (0.4082482904638631, 'im fucking pissed'),\n",
       " (0.4082482904638631, 'im fucking pissed'),\n",
       " (0.4082482904638631, 'im fucking pissed'),\n",
       " (0.383649508822822,\n",
       "  '@hilliknixibix die hab ich als kind immer vom dorfbäcker holen müssenab der die noch im sortiment hat'),\n",
       " (0.3535533905932738, 'im so fucking pissed'),\n",
       " (0.3535533905932738, 'im so fucking pissed'),\n",
       " (0.3535533905932738, 'im so fucking pissed'),\n",
       " (0.3535533905932738, 'im so fucking pissed'),\n",
       " (0.3535533905932738, 'im so fucking pissed'),\n",
       " (0.3535533905932738, 'im so fucking pissed'),\n",
       " (0.3535533905932738, 'im so fucking pissed'),\n",
       " (0.3535533905932738, 'im so fucking pissed'),\n",
       " (0.3535533905932738, 'im so fucking pissed'),\n",
       " (0.3535533905932738, 'im so fucking pissed'),\n",
       " (0.3535533905932738, 'im so fucking pissed'),\n",
       " (0.3333333333333333, 'fucking pissed'),\n",
       " (0.3190278520820663,\n",
       "  'die sog schelte war doch der ansporn für die afd die reaktion der systemparteien war vom unterhaltungswert noch schöner als die augsburger puppenkistealso noch mehr blamieren konnten sich die pappnasen nicht auch der spd fuzzi mit seinem plattdeutsch unterirdisch'),\n",
       " (0.31622776601683794, 'im so fucking pissed rn'),\n",
       " (0.31622776601683794, 'im so fucking pissed rn'),\n",
       " (0.31622776601683794, 'im so fucking pissed istg'),\n",
       " (0.31622776601683794, 'im fucking pissed wtf ticketmaszer'),\n",
       " (0.31622776601683794, '@aschizophrenia die gibts immer noch'),\n",
       " (0.314142875512816,\n",
       "  'ich steh auf dem balkon und seh in der ferne die firma die gerade ihre fläche ausbaut war der einzige der im rathaus eine stimme dagegen eingelegt hat mach mich kinda sad'),\n",
       " (0.3107960034872513,\n",
       "  '@hubertuszulu @tagesschau @patrickgensing diese ominöse stiftung neue verantwortung die vom #faktenfinder immer wieder als grundlage herangezogen wird wird obendrein noch zu vom auswärtigen amt finanziert das damit direkt die berichterstattung in der #ard mutbeeinflusst'),\n",
       " (0.308056663589488,\n",
       "  '@kuehnikev @spdde vermutlich sprichst du von stephan kohn der versucht die menschen in der spd zu erreichen die die flüchtlingspolitik der letzten jahre als verfehlt bezeichnen willkommen in der asdwir haben ihm die unterstützung aus gründen verweigert'),\n",
       " (0.308056663589488,\n",
       "  '@kuehnikev @spdde vermutlich sprichst du von stephan kohn der versucht die menschen in der spd zu erreichen die die flüchtlingspolitik der letzten jahre als verfehlt bezeichnen willkommen in der asdwir haben ihm die unterstützung aus gründen verweigert'),\n",
       " (0.3069291585961488,\n",
       "  'die grosse enttäuschung mit dem prozess gegen die tamil tigers in bellinzona wiederholt sich für die tamilen in der schweiz das trauma des verlorenen krieges ausgerechnet in der neuen heimat'),\n",
       " (0.3068640972044779,\n",
       "  'sigh im kinda glad and kinda mad im in poland tomorrow'),\n",
       " (0.3067864655050443,\n",
       "  'die liste der leute die dometo aif twitter geblockt har ist safe größer als die liste der leute diw in der türkei in haft sitzen'),\n",
       " (0.3061425086663849,\n",
       "  '@pattibasler falls es die noch gibt vielleicht mal beim schweizer buchzentrum in hägendorf nachfragen zumindest haben die früher immer täglich die bücher in diesen grauen plastikkisten an die buchhandlungen ausgeliefert als es diese noch gab'),\n",
       " (0.3039737154843637,\n",
       "  'olympia nachlese #pyeongchangwas für die leserschaft der süddeutschen zeitung noch offen istdie genaue anzahl der asthmadosen im gepäck der deutschen olympiamannschaft @saskiaaleythe von @szsport hatte bekanntlich die anzahl der dosen in norwegens team thematisiert'),\n",
       " (0.3038403295707708,\n",
       "  'die comedybits in #chaempieon sind noch seichter als früher die sketche im benissimo #srfsport'),\n",
       " (0.30319783699138164, 'die geschichte der mode im spiegel der kunst'),\n",
       " (0.3025569567231856,\n",
       "  '@serixuz dann finde icg immer noch dass ronaldo der bessere stürmer istda er eben die physischen aspekte erfüllt und man muss beachten dass ronaldo auch in der pl war und da mehr gute gegner sind als in der la liga in der messi schon immer spielt'),\n",
       " (0.30145213884172095,\n",
       "  'im kriege hat es die wahrheit noch schwerer als im frieden denn lügen müssen alles rechtfertigen und naive glauben die auch noch'),\n",
       " (0.29814239699997197,\n",
       "  '@robinurban will der typ dir immer noch die hängematte aufhängen'),\n",
       " (0.29814239699997197,\n",
       "  '@korallenherz immer diese weder links noch rechts in der bio'),\n",
       " (0.2979737149162226,\n",
       "  '@idontknowexact @somext jaja geisteswissenschaftlerhabe gehört dass es eine forschungsgruppe geben soll die die momentanen ereignisse in berlin unter die lupe nimmtich sag ja immer eher entdecken die atlantis in der spree als dass geist im kabinett nachgewiesen werden könnte'),\n",
       " (0.2962342339820052,\n",
       "  'waehrend die systeme des #rechtsstaates in #deutschland unterbesetzt sind weiss die #bundesregierung immer noch nicht weder wie #ai geschrieben wird noch wie strukturelle probleme mit blick in die zukunft geloest werden koennen #sad #irak #alib'),\n",
       " (0.29593140938252943,\n",
       "  '@fanzeit der videobeweis ist der größte blödsinn der im fußball seit längerem erfunden wurde und er enteiert die schiedsrichter die nur noch als marionetten des videoassistenten herumlaufen'),\n",
       " (0.29592355578003277,\n",
       "  '@onurdzel @houellebeck @ahmadmansour und die wären bitte meinen sie das die dunkelziffer an sexuellen übergriffen in der muslimischen welt promille geringer ist als in der christlichen buddhistischen oder jüdischen welt über der übergriffe passieren im privatem umfeld'),\n",
       " (0.29590350003504834,\n",
       "  'der preisspiegel für die angebote der medientrennung im alp in #wiesbaden #frankfurt #wien #muenchen #stuttgart'),\n",
       " (0.29503535078312143,\n",
       "  '@aschizophrenia recht gross xcm die gab es in rund viereckig und rechteckig hab die auch in der grösse noch nirgends so günstig gesehen'),\n",
       " (0.29503535078312143,\n",
       "  '@aschizophrenia recht gross xcm die gab es in rund viereckig und rechteckig hab die auch in der grösse noch nirgends so günstig gesehen'),\n",
       " (0.2923962892676709,\n",
       "  '#nachtmagazin verbreitet lügen bezüglich des krieges in der nachbarschaft von damaskus weil sie immer von #syrien als initiator der angriffe berichtet die ursache nicht erwähnt die angriffe der #islamisten die die bevölkerung als geiseln hält wie in #mossul und anderswo'),\n",
       " (0.2916981582360295,\n",
       "  '@timminden gibt ca fälle in denen das nicht der fall war die ärzte die die studie angestellt haben meinen dass die fälle ausreichend sind um die these aufzustellen dass der diabetes der mutter ein faktor von mehreren sein kann der die merkmalsausprägung begünstigt'),\n",
       " (0.290917715009609,\n",
       "  'geld im umflauf ist da sowohl die bevölkerungszahl der usa als auch die der welt die in handelt gewachsen ist sehe ich kein problem'),\n",
       " (0.2898744671163643,\n",
       "  'bamf absurd in bremen asyl für reichen wohnungsbesitzer aus rumänien der asylirrsinn im bamf wird immer absurder die behörde gewährte einem rumänen asyl der als araber einreiste dieser besaß in delmenhorst bei bremen jedoch wohnungen die mmnews'),\n",
       " (0.28967616533417684,\n",
       "  '@heuteplus so viele fehler sie verbreiten fast in jedem satz falsche informationen die geschichte der kurden ihre bevölkerungsanzahl in den jeweiligen ländern vor allem in syrien die lage im iran politische ziele der pyd dieses kurzvideo zeigt alles andere als fakten enttäuschend'),\n",
       " (0.2892570237327821,\n",
       "  'markus hibeler die türken in deutschland haben stärker für #erdogan gestimmt als die türken in der türkei selber na dann hat die #integration ja super geklappt da brauchen wir unbedingt noch mehr einwanderer aus noch viel konservativeren islamischen gesellschaften'),\n",
       " (0.28874179854471843,\n",
       "  '@handschi @kardasiapat als die grenze geöffnet wurde ist die anzahl der morde pro einwohner durch die decke gegangen aber du gutmensch nimmst kohls goldjungs immer noch in schutz'),\n",
       " (0.2886751345948129, 'im so fucking pissed rn @clashroyalert'),\n",
       " (0.2886751345948129, 'im so fucking pissed right now'),\n",
       " (0.2886751345948129, 'im so fucking pissed right now'),\n",
       " (0.2886751345948129, 'im so fucking pissed #ivotebtsbbmas @btstwt'),\n",
       " (0.2886751345948129, 'im kinda pissed off rn lmao'),\n",
       " (0.2886751345948129, 'im kinda pissed and idk why'),\n",
       " (0.2886751345948129, '@unkrtvx same im kinda pissed tbh'),\n",
       " (0.2886751345948129, '@aschizophrenia die in der du wohnst'),\n",
       " (0.2874220933123165,\n",
       "  '#muslimwomensday einmal in den usa und einmal im sudansure vers sieht definitiv keinen muslimischen frauentag vor eines der ersten sura die uns in der koranschule gelehrt wurdenausgenommen ist die mutter als solche'),\n",
       " (0.28699849191863186,\n",
       "  'wenn die briten doch in der eu bleiben wollenmüssensie das schon selbst in die wege leitenich seh keinen grund dafür warum wirihnen den hintern küssen und noch mehrextrawürste braten solltenals wir es ohnehinschon immer taten'),\n",
       " (0.2867643828083058,\n",
       "  '#tagestipp #käthekollwitz die #liebe der #krieg und die #kunst in der #kulturkircheost #ausstellung #heisjetloss #cgn chbeck'),\n",
       " (0.2865921813294812,\n",
       "  '@faznet hihi da ist wohl jemand nicht so clever im irak wird die todesstrafe bei mord noch vollstreckt was ich ablehne der mörder flieht in die heimat in der vorgeblich verfolgt wird und flieht dann wieder nach deutschland weil er lieber einfährt als in den himmel zu fahren'),\n",
       " (0.28544921738549456,\n",
       "  'wie es aussieht schaffen wir den marsch durch die institutionen bedeutend schneller als damals die er da kann der igmetallheini mit der glasbausteinbrille noch so betroffen in die kamera starren'),\n",
       " (0.28544921738549456,\n",
       "  'der rückläufige merkur macht sich nun bemerkbar auch die mondfinsternis wirkt noch in dieser woche nachmehr in der botschaft der engel #happiness #inspiration #motivation #goodvibes #positivevibration #youtube #spirituelletechnik #engel #orakel'),\n",
       " (0.2847524473517214,\n",
       "  'stephen king verdanken wir den der rasenmähermann die sbb schreibt nun die fortsetzung der rasenmäherzugmitten in der nacht #horror #railservice'),\n",
       " (0.2845665275702759,\n",
       "  'helden der trauerfeier die offensive in #afrin hat noch einmal bewiesen dass #erdogandie #akp nicht die einzigen hindernisse für demokratie frieden und ein friedliches klima in der #türkei sind kommentiert @malpdagistanli für #türkeiunzensiert'),\n",
       " (0.2845665275702759,\n",
       "  'helden der trauerfeier die offensive in #afrin hat noch einmal bewiesen dass #erdogandie #akp nicht die einzigen hindernisse für demokratie frieden und ein friedliches klima in der #türkei sind kommentiert @malpdagistanli für #türkeiunzensiert'),\n",
       " (0.2845665275702759,\n",
       "  'als die banane in den norden kamunsere geschichtein der nachkriegszeit waren bananen teurer luxus erst mit der erfindung des bananenkartons in den erjahren änderte sich das noch heute sind die früchte wichtiges handelsgut'),\n",
       " (0.2842676218074806,\n",
       "  'in die eiskönigin kommt ein schneemann vor der vom sommer träumt'),\n",
       " (0.2826390997978519,\n",
       "  'ja im real life kassieren die idis eine schlappe nach der anderen so zb jüngst bei den infoständen in wien linz ihnen ist das im endeffekt halt egal weil die minimomente in denen fotos fürs www geschossen werden weitaus wichtiger sind als die kundgebungen selbst'),\n",
       " (0.2826317964943132, 'shen yun der hit in der musicalszene in london'),\n",
       " (0.2826317964943132, 'shen yun der hit in der musicalszene in london'),\n",
       " (0.28202751783853086,\n",
       "  'die lustigen fälscher von #fakewetteronline aus der fälscherwerkstatt in bonn faken bekanntlich die aktuellen werte in den orten und liegen selbst im sommer grad daneben #sad'),\n",
       " (0.2817333748927116,\n",
       "  '@fastkopflos der ist in der tat ein bisschen böse aber immer noch um längen besser als clowns'),\n",
       " (0.281346973830644, 'im so fucking pissed when im hungry omg someone help'),\n",
       " (0.281346973830644, 'im so fucking pissed im legit about to kill someone'),\n",
       " (0.281346973830644,\n",
       "  'die takes sind heißer als der schiss in der herrenwindel'),\n",
       " (0.2811495832352463,\n",
       "  'im going to write the last exam in th grade in fucking hours help im so afraid'),\n",
       " (0.28110383703561853,\n",
       "  '@dokape @poliauwei als demonstration haben mal ein paar radfahrer ein paar minuten in zweiter reihe auf der fahrbahn geparkt nach wenigen minuten war die polizei da und hat das beendet die anderen zweitereiheparker in der nähe haben sie nicht interessiert'),\n",
       " (0.2805475227826867,\n",
       "  'der vfb friedrichshafen geht als der große favorit in die zeitungskommentare von morgen zum streit zwischen zwei lehrlingen in der schule'),\n",
       " (0.28012011898192374,\n",
       "  'noch nie in der deutschen nachkriegsgeschichte wurde die kanzlerin von der opposition mehr unterstützt als von der eigenen partei merkel scheint in der falschen partei zu sein'),\n",
       " (0.28004137455452616,\n",
       "  'man wird hier noch mehr bilder sehen die erotik zeigen in einer form die zumeist als ästhetisch angesehen wirdich bin ein mensch der fühlt der nicht nur an das eine denkt aber auch die schönheit der frau ehrt'),\n",
       " (0.2791226750619736,\n",
       "  'nacht drüber geschlafen immer noch super pissed bin grad echt in nem lowgame vom feinsten null motivation noch bock auf cosplayhoffen wir es ändert sich bald'),\n",
       " (0.2790498130186176,\n",
       "  'mir wurde so plötzlich schlecht dass ich einfach in die suppenschüssel gekotzt habe und es ist wieder genau die gleiche menge in der schüssel wie da als noch die suppe drin war'),\n",
       " (0.27836272902290077,\n",
       "  '#berlin berlin als führende #smartcity in europa so sieht es zumindest die berlinstrategie vor die definiert wie sich die hauptstadt in den nächsten jahren digital entwickeln soll aktuell steht die #digitalisierung der stadt noch am anfang'),\n",
       " (0.27809288134270665,\n",
       "  'ist die personifikation des oberen himmels welcher als sitz der götter und des lichts gesehen wurdebevor es mit hades die unterwelt gab ging der körper der toten in die gaia über die seele unterdessen stieg dem glaube nach in den aither auf'),\n",
       " (0.2777150010609739,\n",
       "  'die matrosen in kronstadt haben damals als erste die gegessen die auch nach kritischer belehrung immer noch das und dass verwechselten'),\n",
       " (0.27745816346160546,\n",
       "  '@feuerruepellp @banderiese @krahmax die in der stadt wuerden mich interessieren die genannten sind naemlich nicht in der naehe davon abgesehen finde ich kriegsgefangenlager als bombardierungsgrund jetzt nicht die beste rechtfertigung'),\n",
       " (0.2773761577556128,\n",
       "  '@raphstar @martinglier @gniederm sieht man in der #spö eigentlich in allem eine verschwörungwas kommt als nächstes der versuch silberstein der #övp unter zu schieben oder gar uns zu erklären das die #fpö im bund böse nazis sind aber im burgenland eh ganz okay'),\n",
       " (0.27607226984145194,\n",
       "  '@vtkolt @tietzmaik und die spd sollte sich deutlicher von der union distanzieren den auf die probleme der zukunft gibt es keine konservative antwortenund für eine erneuerung die bei der noch union nötiger als spd wären fehlt in der partei einfach die richtige philosophie'),\n",
       " (0.2753712976622384,\n",
       "  'damals als die spd noch politiker hatte die das reale leben der deutschen im blick hatten #merkelmussweg @spdde'),\n",
       " (0.27526181858798604,\n",
       "  '@lauriington erinnert mich an dem abend wo die drei immer noch unter den schirmen saßen und die nur noch zugemacht werden mussten wir haben die dann einfach zugemacht und in der zwischenzeit sind die weiber gegangen während wir die anderen zugemacht haben das werter kollege an der hat'),\n",
       " (0.2750768123833038,\n",
       "  'wenn aus #jga #yaa wird unsere #reise in die #usa war der #startschuss unseres globalen #youthagainstaids movements der #höhepunkt die vorstellung unserer globalen kampagne im @facebook #office in #newyork #dowhatyouwant do it with #love #respect and #condoms'),\n",
       " (0.2748825647110681,\n",
       "  'fast vergessen die für akademikerinnenmilieus so überaus wichtige betonung angeblicher ideologiefreiheit als ob uns die ideologie der ideologiefreiheit in den vergangenen jahren nicht in die scheiße geritten hätte in der wir uns heute vorfinden'),\n",
       " (0.2746412891822823,\n",
       "  'wtf es gibt in #dumbo als eine sequenz in der die protagonisten nach alkoholkonsum mehrere minuten lsdlike dahintrippen not sure if im scared or morbidly fascinated oo')]"
      ]
     },
     "execution_count": 31,
     "metadata": {},
     "output_type": "execute_result"
    }
   ],
   "source": [
    "top2 = top_x(100, article2, tokenized)\n",
    "top2"
   ]
  },
  {
   "cell_type": "markdown",
   "metadata": {},
   "source": [
    "Third Text\n",
    "=========="
   ]
  },
  {
   "cell_type": "code",
   "execution_count": 37,
   "metadata": {},
   "outputs": [
    {
     "data": {
      "text/plain": [
       "'@tthicup IM GLAD YOU THINK SO I WAS JUST SHOCKED FOR A MOMENT LOLLLLL'"
      ]
     },
     "execution_count": 37,
     "metadata": {},
     "output_type": "execute_result"
    }
   ],
   "source": [
    "article3 = tweets[119757]\n",
    "article3"
   ]
  },
  {
   "cell_type": "code",
   "execution_count": null,
   "metadata": {},
   "outputs": [],
   "source": [
    "top3 = top_x(100, article3, tokenized)\n",
    "top3"
   ]
  },
  {
   "cell_type": "code",
   "execution_count": null,
   "metadata": {},
   "outputs": [],
   "source": []
  }
 ],
 "metadata": {
  "kernelspec": {
   "display_name": "Python 3",
   "language": "python",
   "name": "python3"
  },
  "language_info": {
   "codemirror_mode": {
    "name": "ipython",
    "version": 3
   },
   "file_extension": ".py",
   "mimetype": "text/x-python",
   "name": "python",
   "nbconvert_exporter": "python",
   "pygments_lexer": "ipython3",
   "version": "3.6.7"
  },
  "varInspector": {
   "cols": {
    "lenName": 16,
    "lenType": 16,
    "lenVar": 40
   },
   "kernels_config": {
    "python": {
     "delete_cmd_postfix": "",
     "delete_cmd_prefix": "del ",
     "library": "var_list.py",
     "varRefreshCmd": "print(var_dic_list())"
    },
    "r": {
     "delete_cmd_postfix": ") ",
     "delete_cmd_prefix": "rm(",
     "library": "var_list.r",
     "varRefreshCmd": "cat(var_dic_list()) "
    }
   },
   "types_to_exclude": [
    "module",
    "function",
    "builtin_function_or_method",
    "instance",
    "_Feature"
   ],
   "window_display": false
  }
 },
 "nbformat": 4,
 "nbformat_minor": 2
}
