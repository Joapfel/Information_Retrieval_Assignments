{
 "cells": [
  {
   "cell_type": "markdown",
   "metadata": {},
   "source": [
    "Task 1\n",
    "======\n",
    "\n",
    "Query:\n",
    "----------\n",
    "\n",
    "**\"dual boot windows xp\"**    \n",
    "For a lot CL students it is very common to have a dual boot on their machines (windows + a linux distro).\n",
    "Imagining this need a couple (maybe more than just a couple) years ago we wanted to find out how \n",
    "to use a dual boot of windows XP and any linux OS. We dont mention the linux part explicitly but still this is \n",
    "what we need.    \n",
    "\n",
    "**johannes annotation vector_ = [0,0,1,0,1,0,0,0,0,1,0,0,0,0,0,0,0,0,0,0]**    \n",
    "**brandon annotation vector__ = [0,0,0,0,1,0,0,0,0,0,1,0,0,0,0,0,0,0,0,0]**    \n",
    "where 1 is relevant and 0 is not relevant\n",
    "\n",
    "| p2/p1        | relevant p1        | not relevant p1  |\n",
    "| ------------- |:-------------:| -----:|\n",
    "| **relevant p2**  | 1 | 1 |\n",
    "| **not relevant p2** | 2 | 16\n",
    "\n",
    "* p(A) = (16 + 1) / 20 = 0.85\n",
    "* p(E) = (3/20 * 2/20) + (17/20 * 18/20) = 0.779\n",
    "* K = ( p(A) - p(E) ) / 1 - p(E) = 0.318 (fair agreement)"
   ]
  },
  {
   "cell_type": "markdown",
   "metadata": {},
   "source": [
    "**johannes annotation**    \n",
    "\n",
    "1. https://neosmart.net/wiki/easybcd/dual-boot/windows-xp/installing-second/       0    \n",
    "2. https://www.instructables.com/id/Dual-Boot-Windows-7-and-Windows-XP/    0    \n",
    "3. https://www.instructables.com/id/How-to-Dual-Boot-Windows-XP-and-Linux/ 1    \n",
    "4. https://www.howtogeek.com/howto/8790/dual-boot-your-pre-installed-windows-7-computer-with-xp/   0    \n",
    "5. https://www.zdnet.com/article/dual-booting-xp-and-linux-its-really-easy/        1    \n",
    "6. https://www.sqa.org.uk/e-learning/ClientOS01CD/page_48.htm      0    \n",
    "7. https://www.sevenforums.com/installation-setup/403755-how-dual-boot-win-xp-win7.html    0    \n",
    "8. https://www.youtube.com/watch?v=o4sPGv5NChg&vl=en       0    \n",
    "9. https://www.youtube.com/watch?v=wK69rSBQRu0     0    \n",
    "10. https://www.youtube.com/watch?v=8yiZ3rDm99E     1    \n",
    "11. https://answers.microsoft.com/en-us/windows/forum/windows_10-windows_install-winpc/have-windows-10-wish-to-dual-boot-with-windows-xp/a949c0b6-88d9-4bdc-a0a2-e74fd9a5b0a3       0    \n",
    "12. https://answers.microsoft.com/en-us/insider/forum/all/dual-boot-windows-xp-with-10-technical-preview/e5df88c3-cb3b-4f73-8314-ee00be539c56       0    \n",
    "13. https://www.raymond.cc/blog/how-to-dual-boot-vista-and-xp-with-vista-installed-first/   0    \n",
    "14. https://www.easeus.com/partition-master/dual-boot-windows-7-xp-vista.html       0    \n",
    "15. http://www.tomshardware.co.uk/forum/id-3679754/dual-boot-win-32bit.html 0    \n",
    "16. https://www.reviversoft.com/blog/2013/09/dual-booting-windows-xp-and-windows-7/ 0    \n",
    "17. https://www.cnet.com/forums/discussions/can-you-dual-boot-two-xp-os-276264/     0    \n",
    "18. https://www.itprotoday.com/windows-vista-installation-super-guide-part-4-dual-boot-windows-xp-windows-vista     0    \n",
    "19. https://answers.microsoft.com/en-us/windows/forum/windows_10-windows_install/windows-10-and-xp-dual-boot/aaf11121-fa68-4dda-b4b7-8beed268b025   0    \n",
    "20. https://answers.microsoft.com/en-us/windows/forum/windows_10-windows_install-winpc/how-to-dual-boot-windows-10-with-other-versions-of/9695dfc7-1c13-4d8d-b10b-587e78c6ac36      0  \n",
    "\n",
    "\n",
    "**brandon annotation**\n",
    "1. Dual Boot Windows 7 and Windows XP: 4 Stepshttps://www.instructables.com/id/Dual-Boot-Windows-7-and-Windows-XP/ 0\n",
    "2. Installing XP as a second OS - NeoSmart Technologieshttps://neosmart.net/wiki/easybcd/dual-boot/windows-xp/installing-second/ 0\n",
    "3. Dual-booting an existing Windows XP installationhttps://neosmart.net/wiki/easybcd/dual-boot/windows-xp/installing-first/ 0\n",
    "4. Dual-booting XP and Linux - It's really easy! | ZDNethttps://www.zdnet.com/article/dual-booting-xp-and-linux-its-really-easy/ 1\n",
    "5. Dual-Booting Windows XP - S QAhttps://www.sqa.org.uk/e-learning/ClientOS01CD/page_48.htm 0\n",
    "6. How do I dual boot Windows XP and Windows 7? - ReviverSofthttps://www.reviversoft.com/blog/2013/09/dual-booting-windows-xp-and-windows-7/ 0\n",
    "7. Can you dual boot two xp OS? - Forums - CNEThttps://www.cnet.com/forums/discussions/can-you-dual-boot-two-xp-os-276264/ 0\n",
    "8. How to dual boot Windows XP and Windows 7 operating systems ...https://www.youtube.com/watch?v=o4sPGv5NChg&vl=en 0\n",
    "9. How to Dual Boot Windows XP and Windows 10 - YouTubehttps://www.youtube.com/watch?v=wK69rSBQRu0 0\n",
    "10. Dual Boot Windows XP and Ubuntu (easier way) - YouTubehttps://www.youtube.com/watch?v=8yiZ3rDm99E 1\n",
    "11. How to Dual Boot Windows 7 with XP Or Vista - EaseUShttps://www.easeus.com/partition-master/dual-boot-windows-7-xp-vista.html 0\n",
    "12. Dual Boot Installation with Windows 7 and XP - Windows 7 Help Forumshttps://www.sevenforums.com/tutorials/8057-dual-boot-installation-windows-7-xp.htm 0\n",
    "13. How to Dual Boot Windows 7 and XP • Raymond.CChttps://www.raymond.cc/blog/how-to-dual-boot-vista-and-xp-with-vista-installed-first/ 0\n",
    "14. Have Windows 10, wish to dual boot with windows xp. - Microsoft ...https://answers.microsoft.com/.../windows/.../windows...windows...windows...dual-boo... 0\n",
    "15. dual boot Windows xp with 10 technical preview? - Microsoft Communityhttps://answers.microsoft.com/.../dual-boot-windows-xp.../e5df88c3-cb3b-4f73-8314-... 0\n",
    "16. How to Dual Boot Windows 7 with XP or Vista - Lifehackerhttps://lifehacker.com/5126781/how-to-dual-boot-windows-7-with-xp-or-vista 0\n",
    "17. Can you dual boot two xp OS? - Forums - CNEThttps://www.cnet.com/forums/discussions/can-you-dual-boot-two-xp-os-276264/ 0\n",
    "18. Dual Boot Windows XP with Windows Vista - IT Pro Todayhttps://www.itprotoday.com/windows-vista-installation-super-guide-part-4-dual-boot-... 0\n",
    "19. Dual boot Windows 8.1 and Windows XP - Microsoft Communityhttps://answers.microsoft.com/.../windows/.../windows8.../dual-boot-windows...windo... 0\n",
    "20. ibm pc - Windows 98 / XP Dual boot - Retrocomputing Stack Exchangehttps://retrocomputing.stackexchange.com/questions/2461/windows-98-xp-dual-boot 0"
   ]
  },
  {
   "cell_type": "code",
   "execution_count": 13,
   "metadata": {},
   "outputs": [
    {
     "name": "stdout",
     "output_type": "stream",
     "text": [
      "Equal:  17\n",
      "Not Equal:  3\n"
     ]
    }
   ],
   "source": [
    "a1 = [0,0,1,0,1,0,0,0,1,0,0,0,0,0,0,0,0,0,0,0]\n",
    "a2 = [0,0,0,0,1,0,0,0,0,0,1,0,0,0,0,0,0,0,0,0]\n",
    "\n",
    "equal = 0\n",
    "not_equal = 0\n",
    "\n",
    "for e1,e2 in zip(a1,a2):\n",
    "    if e1 == e2:\n",
    "        equal += 1\n",
    "    else:\n",
    "        not_equal += 1\n",
    "        \n",
    "print(\"Equal: \", equal)\n",
    "print(\"Not Equal: \", not_equal)"
   ]
  },
  {
   "cell_type": "code",
   "execution_count": 17,
   "metadata": {},
   "outputs": [
    {
     "data": {
      "text/plain": [
       "0.31818181818181834"
      ]
     },
     "execution_count": 17,
     "metadata": {},
     "output_type": "execute_result"
    }
   ],
   "source": [
    "a = (16 + 1) / 20\n",
    "e = (3/20 * 2/20) + (17/20 * 18/20)\n",
    "(a - e) / (1 - e)"
   ]
  },
  {
   "cell_type": "code",
   "execution_count": null,
   "metadata": {},
   "outputs": [],
   "source": []
  }
 ],
 "metadata": {
  "kernelspec": {
   "display_name": "Python 3",
   "language": "python",
   "name": "python3"
  },
  "language_info": {
   "codemirror_mode": {
    "name": "ipython",
    "version": 3
   },
   "file_extension": ".py",
   "mimetype": "text/x-python",
   "name": "python",
   "nbconvert_exporter": "python",
   "pygments_lexer": "ipython3",
   "version": "3.6.7"
  }
 },
 "nbformat": 4,
 "nbformat_minor": 2
}
